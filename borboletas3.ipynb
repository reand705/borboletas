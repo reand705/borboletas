{
 "metadata": {
  "name": ""
 },
 "nbformat": 3,
 "nbformat_minor": 0,
 "worksheets": [
  {
   "cells": [
    {
     "cell_type": "code",
     "collapsed": false,
     "input": [
      "# coding: utf-8\n",
      "#Imprimir Rho - Borboletas\n",
      "%matplotlib inline\n",
      "import scipy.integrate\n",
      "from scipy.stats import norm\n",
      "import numpy as np\n",
      "import matplotlib.pyplot as plt\n",
      "#from mpl_toolkits.mplot3d import Axes3D\n",
      "#fig = plt.figure()\n",
      "#ax = fig.add_subplot(111, projection='3d')\n",
      "from scipy.stats import circmean\n",
      "from scipy.stats import circstd\n",
      "import matplotlib\n",
      "from matplotlib import rc ## desnecess\u00e1rio\n",
      "matplotlib.rcParams['text.usetex'] = True\n",
      "\n",
      "#Parametros\n",
      "M = 10\n",
      "rbar = 3 #taxa de crescimento\n",
      "alpha = 1 #? ## amplitude da oscila\u00e7\u00e3o da taxa de crescimento, alpha \\in [0, 1]\n",
      "beta1 = 20 #fase da taxa de crescimento na mata (dias)\n",
      "beta2 = 350 # parametro realista\n",
      "K1 = 50 #carrying capacities na mata\n",
      "K2 = 50 #carrying capacities na mata\n",
      "\n",
      "## mortalidade no bolsao\n",
      "## corresponde a 0.1 dia^-1, ou seja, o tempo de vida e ~10 dias so\n",
      "#mu1 = 0.04 #taxas de mortalidade\n",
      "#mu2 = 0.06\n",
      "mu1 = 1/180.\n",
      "mu2 = 1/180.\n",
      "\n",
      "rho = 1 #taxa de predacao\n",
      "v = 10 #populacao fixa de predadores\n",
      "v00 = 5 #populacao inicial de predadores que NAO aprenderam\n",
      "c = 0.15 #taxa de aprendizagem\n",
      "C3 = 0.05 #taxa de DESaprendizagem\n",
      "phic = 240 #epoca do ano em que comecam a entrar novos predadores\n",
      "duracao = 150 #tamanho do intervado em que predadores entram\n",
      "\n",
      "phibar1 = 1.5*np.pi #phi_barra\n",
      "phibar2 = np.pi\n",
      "Nphi = 50 #numero de divisoes do intervalo [0,2pi)\n",
      "x = np.linspace(0, 2*np.pi, Nphi+1) #intervalo dos phis\n",
      "phi = 2.0*np.pi* np.arange(0,Nphi+1)/Nphi\n",
      "\n",
      "## Aqui voce inclui o 2*pi no grid, precisa cuidar pra mante-lo igual ao 0, ou\n",
      "## descarta-lo, nao achei isso. De qualquer forma, deve dar um erro pequeno anyway\n",
      "u0 = 5\n",
      "\n",
      "u0m1 = 40 #Populacoes Iniciais - Pico da triangular - (QUASE A) integral da populacao na distribuicao inicial\n",
      "u0m2 = 30\n",
      "u0b1 = 0 \n",
      "u0b2 = 0\n",
      "\n",
      "\n",
      "T = 12*365 #Tempo de simulacao (Dias)\n",
      "N = 12*365 #resolu\u00e7ao\n",
      "\n",
      "\n",
      "# In[19]:\n",
      "\n",
      "@np.vectorize\n",
      "def u_inicial(x, u0, phibar, tipo):\n",
      "    '''Calcula a funcao inicial da distribuicao das populacoes (no ponto x) de acordo com a forma funcional desejada, centrada\n",
      "    em phibar\n",
      "    '''\n",
      "    #Triangular - Pico de altura u0\n",
      "    if tipo == 't':\n",
      "        if x < phibar:\n",
      "            return u0*x/phibar\n",
      "        else:\n",
      "            return (2.0*np.pi - x)*u0/(2*np.pi - phibar)\n",
      "\n",
      "    #Gaussiana, centrada phibar, de integral u0 e var = 1\n",
      "    if tipo == 'g':\n",
      "        x = x%365\n",
      "        return u0*norm.pdf(x,phibar)\n",
      "\n",
      "    if tipo == 'u':\n",
      "        return u0/(2*np.pi)\n",
      "\n",
      "    if tipo == 'wg':\n",
      "        # wrapped Gaussian\n",
      "        return u0 * max(norm.pdf(x,phibar), norm.pdf(x+2*np.pi,phibar), norm.pdf(x-2*np.pi,phibar))\n",
      "\n",
      "# ----------------------------------------------------------------------------------------------------\n",
      "def m(t,phi):\n",
      "    #taxa de migracao de saida para o bolsao\n",
      "    return M*(1 + np.sin(2.0*np.pi*t/365 + phi))\n",
      "# ----------------------------------------------------------------------------------------------------\n",
      "def c3(t,phic,duracao):\n",
      "    #entrada de predadores\n",
      "    #se phic + duracao\n",
      "    if phic + duracao > 365:\n",
      "        if (phic + duracao)%365 < t%365 and t%365 < phic:\n",
      "            return 0.0\n",
      "        else:\n",
      "            return C3\n",
      "    else:\n",
      "        if phic < t%365 and t%365 < phic + duracao:\n",
      "            return C3\n",
      "        else:\n",
      "            return 0.0\n",
      "\n",
      "# ----------------------------------------------------------------------------------------------------\n",
      "def r(t,beta):\n",
      "    ## n\u00e3o entendi por que essa fun\u00e7\u00e3o depende de phi, voc\u00ea quis dizer alpha?\n",
      "    #taxa de crescimento na mata\n",
      "    # senoide:\n",
      "    # beta \u00e9 o dia em que a esta\u00e7\u00e3o favor\u00e1vel come\u00e7a (r > rbar)\n",
      "    #return rbar*(1 + alpha*np.sin(2.0*np.pi*(t-beta)/365))\n",
      "    # Gaussiana:\n",
      "    t = t%365\n",
      "    sigma = 20\n",
      "    return np.sqrt(sigma) * 2 * np.pi * (rbar + alpha) * \\\n",
      "            np.max(np.c_[norm.pdf(t-beta, 0, sigma),\n",
      "                         norm.pdf(t-365-beta, 0, sigma),\n",
      "                         norm.pdf(t+365-beta, 0,sigma)], axis=1)\n",
      "# ----------------------------------------------------------------------------------------------------\n",
      "def um_chapeu(um,int1m,int2m,u0):\n",
      "    #Calcula a densidade da mata\n",
      "    return um/(u0 + int1m + int2m)\n",
      "\n",
      "# ----------------------------------------------------------------------------------------------------\n",
      "def mediaphi(u):\n",
      "    #calcula a media sobre phi da populacao - espera-se um vettor de tamanho Nphi+1\n",
      "    sum_of_sines = 0\n",
      "    sum_of_cosines = 0\n",
      "    for i in range(len(x)):\n",
      "        sum_of_sines += u[i]*np.sin(x[i])\n",
      "        sum_of_cosines += u[i]*np.cos(x[i])\n",
      "    \n",
      "    return np.arctan2(sum_of_sines,sum_of_cosines) + np.pi\n",
      "# ----------------------------------------------------------------------------------------------------\n",
      "def circaverage(angles, weights):\n",
      "    '''Compute the weighted circular mean of angles'''\n",
      "    angles = np.array(angles)\n",
      "    weights = np.array(weights)\n",
      "    sin_sum = (np.sin(angles) * weights).sum()\n",
      "    cos_sum = (np.cos(angles) * weights).sum()\n",
      "    total_weights = weights.sum()\n",
      "    \n",
      "    return np.arctan2(sin_sum/total_weights, cos_sum/total_weights) + np.pi\n",
      "        \n",
      "\n",
      "# ----------------------------------------------------------------------------------------------------\n",
      "def ddt(y, t, rho):\n",
      "    '''\n",
      "    Calcula du_M/dt, du_B/dt e dv_0/dt\n",
      "    y contem as 4 populacoes de borboletas e a de predadores\n",
      "    \n",
      "    Tambem atualiza as medias\n",
      "    '''\n",
      "    #Monte as populacoes\n",
      "    u1m = y[0:Nphi+1]\n",
      "    u1b = y[Nphi+1:2*Nphi+2]\n",
      "    u2m = y[2*Nphi+2:3*Nphi+3]\n",
      "    u2b = y[3*Nphi+3:4*Nphi+4]\n",
      "    v0 = y[-1]    \n",
      "\n",
      "    #Calcule as integrais\n",
      "\n",
      "    int1m = scipy.integrate.trapz(u1m,x)\n",
      "    int2m = scipy.integrate.trapz(u2m,x)\n",
      "   \n",
      "    #calcule-as para todo phi\n",
      "    du_1mdt = r(t,beta1) * u1m * (1 - int1m/K1) - rho*v0 * um_chapeu(u1m,int1m,int2m,u0) - m(t,phi)*u1m + m(t - 365/2.0,phi)*u1b\n",
      "    du_1bdt = -mu1*u1b + m(t,phi)*u1m - m(t - 365/2.0,phi)*u1b\n",
      "    du_2mdt = r(t,beta2)*u2m*(1 - int2m/K2) - rho*v0*um_chapeu(u2m,int1m,int2m,u0) - m(t,phi)*u2m + m(t - 365/2.0,phi)*u2b\n",
      "    du_2bdt = -mu2*u2b + m(t,phi)*u2m - m(t - 365/2.0,phi)*u2b\n",
      "\n",
      "    # e para o predador\n",
      "\n",
      "    dv0dt = -c*v0*(int1m + int2m)/(u0 + int1m + int2m) + c3(t,phic,duracao)*(v - v0)\n",
      "\n",
      "    return np.r_[du_1mdt,du_1bdt,du_2mdt,du_2bdt,dv0dt]\n"
     ],
     "language": "python",
     "metadata": {},
     "outputs": [],
     "prompt_number": 3
    },
    {
     "cell_type": "code",
     "collapsed": false,
     "input": [
      "#Simule\n",
      "rhos = [0.0]\n",
      "aux = [0.05 + i*0.1 for i in range(0,12)]\n",
      "for elemento in aux: #pregui\u00e7oso\n",
      "    rhos.append(elemento)\n",
      "\n",
      "plt.interactive(True)\n",
      "t = np.linspace(0, T, N)\n",
      "lenT = len(t) ## = N+1 por constru\u00e7\u00e3o?\n",
      "\n",
      "for rho in rhos:\n",
      "    print(rho) #para sabermos em qual est\u00e1\n",
      "    \n",
      "    um10 = np.zeros(Nphi+1)\n",
      "    ub10 = np.zeros(Nphi+1)\n",
      "    um20 = np.zeros(Nphi+1)\n",
      "    ub20 = np.zeros(Nphi+1)\n",
      "    \n",
      "    #Monte as populacoes iniciais - Todas comecam na mata\n",
      "    um10 = u_inicial(phi,u0m1,phibar1,'wg')\n",
      "    um20 = u_inicial(phi,u0m2,phibar2,'wg')\n",
      "    \n",
      "    #Merge as listas\n",
      "    y0 = np.r_[um10,ub10,um20,ub20,v00]\n",
      "    \n",
      "    #plt.plot(np.linspace(0, 2*np.pi, Nphi+1), um10)\n",
      "    #plt.show()\n",
      "    \n",
      "    #Passe para o solver\n",
      "    sol = scipy.integrate.odeint(ddt,y0,t, (rho,))\n",
      "    \n",
      "    sol = np.array(sol)\n",
      "    \n",
      "    np.save('solution_rho=%.3f' %(rho), sol)"
     ],
     "language": "python",
     "metadata": {},
     "outputs": [
      {
       "output_type": "stream",
       "stream": "stdout",
       "text": [
        "0.0\n"
       ]
      }
     ],
     "prompt_number": 33
    },
    {
     "cell_type": "code",
     "collapsed": false,
     "input": [
      "#Calcule as medias e as popula\u00e7\u00f5es finais para todos os rhos\n",
      "means1 = []\n",
      "errorbars1 = []\n",
      "means2 = []\n",
      "errorbars2 = []\n",
      "finals1m = []\n",
      "finals2m = []\n",
      "finals1b = []\n",
      "finals2b = []\n",
      "\n",
      "plt.interactive(True)\n",
      "rhos = [0.0]\n",
      "aux = [0.05 + i*0.1 for i in range(0,12)]\n",
      "for elemento in aux: #pregui\u00e7oso\n",
      "    rhos.append(elemento)\n",
      "\n",
      "for rho in rhos:\n",
      "    sol = np.load('solution_rho=%.3f.npy' %(rho))\n",
      "    \n",
      "    #Monte as populacoes finais\n",
      "    u1m = sol[-1*365:,0:Nphi+1]\n",
      "    u1b = sol[-1*365:,Nphi+1:2*Nphi+2]\n",
      "    u2m = sol[-1*365:,2*Nphi+2:3*Nphi+3]\n",
      "    u2b = sol[-1*365:,3*Nphi+3:4*Nphi+4]\n",
      "    v0 = sol[-1*365:,-1]    \n",
      "\n",
      "    #Calcule as integrais\n",
      "    int1m = scipy.integrate.trapz(u1m,x)\n",
      "    int2m = scipy.integrate.trapz(u2m,x)\n",
      "    int1b = scipy.integrate.trapz(u1b,x)\n",
      "    int2b = scipy.integrate.trapz(u2b,x)\n",
      "    \n",
      "    finals1m.append(np.mean(int1m))\n",
      "    finals1b.append(np.mean(int1b))\n",
      "    finals2m.append(np.mean(int2m))\n",
      "    finals2b.append(np.mean(int2b))\n",
      "    \n",
      "    #Calcule as medias\n",
      "    mean_u1m = np.zeros(lenT)\n",
      "    mean_u1b = np.zeros(lenT)\n",
      "    mean_u2m = np.zeros(lenT)\n",
      "    mean_u2b = np.zeros(lenT)\n",
      "    \n",
      "    mean_of_phis_um10 = np.zeros(lenT)\n",
      "    mean_of_phis_ub10 = np.zeros(lenT)\n",
      "    mean_of_phis_um20 = np.zeros(lenT)\n",
      "    mean_of_phis_ub20 = np.zeros(lenT)\n",
      "    \n",
      "    for i in range(0,lenT):\n",
      "        #populacao media\n",
      "        mean_u1m[i] = np.mean(sol[i,0:(Nphi+1)])\n",
      "        mean_u1b[i] = np.mean(sol[i,Nphi+1:2*Nphi+2])\n",
      "        mean_u2m[i] = np.mean(sol[i,2*Nphi+2:3*Nphi+3])\n",
      "        mean_u2b[i] = np.mean(sol[i,3*Nphi+3:4*Nphi+4])\n",
      "        \n",
      "        #m\u00e9dia dos phis\n",
      "        mean_of_phis_um10[i] = mediaphi(sol[i,0:(Nphi+1)])\n",
      "        mean_of_phis_ub10[i] = mediaphi(sol[i,Nphi+1:2*Nphi+2])\n",
      "        mean_of_phis_um20[i] = mediaphi(sol[i,2*Nphi+2:3*Nphi+3])\n",
      "        mean_of_phis_ub20[i] = mediaphi(sol[i,3*Nphi+3:4*Nphi+4])\n",
      "        \n",
      "    # medias simples\n",
      "    media_phi_u1m = circmean(mean_of_phis_um10[-5*365:])\n",
      "    media_phi_u2m = circmean(mean_of_phis_um20[-5*365:])\n",
      "    \n",
      "    #desvio padr\u00e3o\n",
      "    stdev_phi_u1m = circstd(mean_of_phis_um10[-5*365:])\n",
      "    stdev_phi_u2m = circstd(mean_of_phis_um20[-5*365:])\n",
      "    \n",
      "    # medias ponderadas por pop. total\n",
      "    media_phi_avg_u1m = circaverage(mean_of_phis_um10[-5*365:], mean_u1m[-5*365:])\n",
      "    media_phi_avg_u2m = circaverage(mean_of_phis_um20[-5*365:], mean_u2m[-5*365:])\n",
      "    \n",
      "    # medidas de sincronia\n",
      "    print('Diferen\u00e7a entre m\u00e9dia simples de phi: %.5f' % ((media_phi_u2m - media_phi_u1m) / 2/ np.pi * 365))\n",
      "    print('Diferen\u00e7a entre m\u00e9dia ponderada de phi: %.5f' % ((media_phi_avg_u2m - media_phi_avg_u1m) / 2/ np.pi * 365))\n",
      "    \n",
      "    #adicione \u00e0s listas\n",
      "    means1.append(media_phi_avg_u1m/ 2/ np.pi * 365)\n",
      "    errorbars1.append(stdev_phi_u1m/ 2/ np.pi * 365)\n",
      "    means2.append(media_phi_avg_u2m/ 2/ np.pi * 365)\n",
      "    errorbars2.append(stdev_phi_u2m/ 2/ np.pi * 365)"
     ],
     "language": "python",
     "metadata": {},
     "outputs": [
      {
       "output_type": "stream",
       "stream": "stdout",
       "text": [
        "Diferen\u00e7a entre m\u00e9dia simples de phi: 27.96410\n",
        "Diferen\u00e7a entre m\u00e9dia ponderada de phi: 28.31529\n",
        "Diferen\u00e7a entre m\u00e9dia simples de phi: 30.17923"
       ]
      },
      {
       "output_type": "stream",
       "stream": "stdout",
       "text": [
        "\n",
        "Diferen\u00e7a entre m\u00e9dia ponderada de phi: 30.65499\n",
        "Diferen\u00e7a entre m\u00e9dia simples de phi: 34.99511"
       ]
      },
      {
       "output_type": "stream",
       "stream": "stdout",
       "text": [
        "\n",
        "Diferen\u00e7a entre m\u00e9dia ponderada de phi: 35.23697\n",
        "Diferen\u00e7a entre m\u00e9dia simples de phi: 32.61932"
       ]
      },
      {
       "output_type": "stream",
       "stream": "stdout",
       "text": [
        "\n",
        "Diferen\u00e7a entre m\u00e9dia ponderada de phi: 32.69845\n",
        "Diferen\u00e7a entre m\u00e9dia simples de phi: 19.80745"
       ]
      },
      {
       "output_type": "stream",
       "stream": "stdout",
       "text": [
        "\n",
        "Diferen\u00e7a entre m\u00e9dia ponderada de phi: 20.08789\n",
        "Diferen\u00e7a entre m\u00e9dia simples de phi: 14.44605"
       ]
      },
      {
       "output_type": "stream",
       "stream": "stdout",
       "text": [
        "\n",
        "Diferen\u00e7a entre m\u00e9dia ponderada de phi: 14.65281\n",
        "Diferen\u00e7a entre m\u00e9dia simples de phi: 12.45893"
       ]
      },
      {
       "output_type": "stream",
       "stream": "stdout",
       "text": [
        "\n",
        "Diferen\u00e7a entre m\u00e9dia ponderada de phi: 12.61825\n",
        "Diferen\u00e7a entre m\u00e9dia simples de phi: -353.48591"
       ]
      },
      {
       "output_type": "stream",
       "stream": "stdout",
       "text": [
        "\n",
        "Diferen\u00e7a entre m\u00e9dia ponderada de phi: 11.61584\n",
        "Diferen\u00e7a entre m\u00e9dia simples de phi: -353.90002"
       ]
      },
      {
       "output_type": "stream",
       "stream": "stdout",
       "text": [
        "\n",
        "Diferen\u00e7a entre m\u00e9dia ponderada de phi: 11.24882\n",
        "Diferen\u00e7a entre m\u00e9dia simples de phi: -354.21239"
       ]
      },
      {
       "output_type": "stream",
       "stream": "stdout",
       "text": [
        "\n",
        "Diferen\u00e7a entre m\u00e9dia ponderada de phi: 10.81102\n",
        "Diferen\u00e7a entre m\u00e9dia simples de phi: 10.85421"
       ]
      },
      {
       "output_type": "stream",
       "stream": "stdout",
       "text": [
        "\n",
        "Diferen\u00e7a entre m\u00e9dia ponderada de phi: 11.01436\n",
        "Diferen\u00e7a entre m\u00e9dia simples de phi: -200.64431"
       ]
      },
      {
       "output_type": "stream",
       "stream": "stdout",
       "text": [
        "\n",
        "Diferen\u00e7a entre m\u00e9dia ponderada de phi: -15.67187\n",
        "Diferen\u00e7a entre m\u00e9dia simples de phi: -16.97866"
       ]
      },
      {
       "output_type": "stream",
       "stream": "stdout",
       "text": [
        "\n",
        "Diferen\u00e7a entre m\u00e9dia ponderada de phi: -17.06919\n"
       ]
      }
     ],
     "prompt_number": 7
    },
    {
     "cell_type": "code",
     "collapsed": false,
     "input": [
      "#plote os phis medios\n",
      "plt.errorbar(rhos, means1, yerr = errorbars1, label = r\"Esp. 1\")\n",
      "plt.errorbar(rhos, means2, yerr = errorbars2, label = r\"Esp. 2\")\n",
      "print(\"Beta 1 = %d\" %beta1)\n",
      "print(\"Beta 2 = %d\" %beta2)\n",
      "plt.legend(loc = \"best\")\n",
      "plt.xlabel(r\"$\\rho$\")\n",
      "plt.ylabel(r\"$\\phi$ medio (dia do ano)\")\n",
      "plt.title(r\"-$'s\")\n",
      "plt.show()"
     ],
     "language": "python",
     "metadata": {},
     "outputs": [
      {
       "output_type": "stream",
       "stream": "stdout",
       "text": [
        "Beta 1 = 20\n",
        "Beta 2 = 350\n"
       ]
      },
      {
       "metadata": {},
       "output_type": "display_data",
       "png": "[encoded data removed]",
       "text": [
        "<matplotlib.figure.Figure at 0xb4c8c80c>"
       ]
      }
     ],
     "prompt_number": 35
    },
    {
     "cell_type": "code",
     "collapsed": false,
     "input": [
      "#Plote as popula\u00e7\u00f5es finais\n",
      "plt.plot(rhos, finals1m, label = r\"1m\")\n",
      "plt.plot(rhos, finals1b, label = r\"1b\")\n",
      "plt.plot(rhos, finals2m, label = r\"2m\")\n",
      "plt.plot(rhos, finals2b, label = r\"2b\")\n",
      "plt.xlabel(r\"$\\rho$\")\n",
      "plt.ylabel(r\"Final pops. (avg. integral - last ano)\")\n",
      "plt.title(r\"-$'s\")\n",
      "plt.legend(loc = \"best\")\n",
      "plt.show()"
     ],
     "language": "python",
     "metadata": {},
     "outputs": [
      {
       "metadata": {},
       "output_type": "display_data",
       "png": "[encoded data removed]",
       "text": [
        "<matplotlib.figure.Figure at 0xab08928c>"
       ]
      }
     ],
     "prompt_number": 10
    },
    {
     "cell_type": "code",
     "collapsed": false,
     "input": [],
     "language": "python",
     "metadata": {},
     "outputs": [
      {
       "output_type": "stream",
       "stream": "stdout",
       "text": [
        "[49.982612458670602, 49.994798344863767, 50.135170020704294, 50.319460175490335, 50.252052866824421, 49.7276310408771, 47.933861915067581, 42.382821201299528, 29.607617535139088, 11.803811053617723, -2.344627083496416e-18, -1.5535160717265847e-22]\n"
       ]
      }
     ],
     "prompt_number": 20
    }
   ],
   "metadata": {}
  }
 ]
}