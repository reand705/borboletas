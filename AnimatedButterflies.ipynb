{
 "metadata": {
  "name": ""
 },
 "nbformat": 3,
 "nbformat_minor": 0,
 "worksheets": [
  {
   "cells": [
    {
     "cell_type": "code",
     "collapsed": false,
     "input": [
      "import numpy as np\n",
      "import matplotlib.pyplot as plt\n",
      "import matplotlib.animation as animation\n",
      "\n",
      "Nphi = 50 #numero de divisoes do intervalo [0,2pi)\n",
      "x = np.linspace(0, 2*np.pi, Nphi+1) #intervalo dos phis\n",
      "T = 2000 #Tempo de simulacao (Dias)\n",
      "N = 4000 #resolu\u00e7ao\n",
      "data = np.load('solution.npy')\n",
      "phic = 100.\n",
      "duracao = 90.\n",
      "\n",
      "fig, ax = plt.subplots()\n",
      "line1, = ax.plot(x, data[0,:Nphi+1], 'b', label='$u_{1m}$')\n",
      "line2, = ax.plot(x, data[0,Nphi+1:2*(Nphi+1)], '--b', label='$u_{1b}$')\n",
      "line3, = ax.plot(x, data[0,2*(Nphi+1):3*(Nphi+1)], 'r', label='$u_{2m}$')\n",
      "line4, = ax.plot(x, data[0,3*(Nphi+1):4*(Nphi+1)], '--r', label='$u_{2b}$')\n",
      "time_text = ax.text(0.02, 0.90, '', transform=ax.transAxes, fontsize='x-small')\n",
      "v0_text = ax.text(0.02, 0.80, '', transform=ax.transAxes, fontsize='x-small')\n",
      "plt.ylim((0, data.max()))\n",
      "plt.xlim((0, 2*np.pi))\n",
      "plt.xlabel('$\\phi$')\n",
      "plt.legend(loc='center left', frameon=False)\n",
      "plt.axvline(phic/365.*2*np.pi, ls=':', c='k')\n",
      "plt.axvline((phic+duracao)/365.*2*np.pi, ls='-.', c='k')\n",
      "\n",
      "def animate(i):\n",
      "    global data, line1, line2, line3, line4, T, N\n",
      "    line1.set_ydata(data[i,:Nphi+1])\n",
      "    line2.set_ydata(data[i,Nphi+1:2*(Nphi+1)])\n",
      "    line3.set_ydata(data[i,2*(Nphi+1):3*(Nphi+1)])\n",
      "    line4.set_ydata(data[i,3*(Nphi+1):4*(Nphi+1)])\n",
      "    time_text.set_text('time: %.2f years' % (i*T/(N*365.)))\n",
      "    v0_text.set_text('v0: %.1f' % data[i,-1])\n",
      "    return line1, line2, line3, line4, time_text, v0_text\n",
      "\n",
      "ani = animation.FuncAnimation(fig, animate, np.arange(1, data.shape[0]),\n",
      "                              interval=20, blit=False)\n",
      "ani.save('lines.mp4', dpi=300, fps=30, extra_args=['-vcodec', 'libx264'])\n",
      "#plt.show() # runs forever?!"
     ],
     "language": "python",
     "metadata": {},
     "outputs": [],
     "prompt_number": "*"
    }
   ],
   "metadata": {}
  }
 ]
}